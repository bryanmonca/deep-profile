{
 "cells": [
  {
   "cell_type": "code",
   "execution_count": 16,
   "id": "9c6eedd8",
   "metadata": {},
   "outputs": [],
   "source": [
    "%matplotlib inline"
   ]
  },
  {
   "cell_type": "markdown",
   "id": "735ecda8",
   "metadata": {},
   "source": [
    "PyTorch Profiler With TensorBoard\n",
    "====================================\n",
    "This tutorial demonstrates how to use TensorBoard plugin with PyTorch Profiler\n",
    "to detect performance bottlenecks of the model.\n",
    "\n",
    "Introduction\n",
    "------------\n",
    "PyTorch 1.8 includes an updated profiler API capable of \n",
    "recording the CPU side operations as well as the CUDA kernel launches on the GPU side.\n",
    "The profiler can visualize this information\n",
    "in TensorBoard Plugin and provide analysis of the performance bottlenecks.\n",
    "\n",
    "In this tutorial, we will use a simple Resnet model to demonstrate how to\n",
    "use TensorBoard plugin to analyze model performance."
   ]
  },
  {
   "cell_type": "markdown",
   "id": "8aed83aa",
   "metadata": {},
   "source": [
    "Steps\n",
    "-----\n",
    "\n",
    "1. Prepare the data and model\n",
    "2. Use profiler to record execution events\n",
    "3. Run the profiler\n",
    "4. Use TensorBoard to view results and analyze model performance\n",
    "5. Improve performance with the help of profiler\n",
    "6. Analyze performance with other advanced features\n",
    "\n",
    "1. Prepare the data and model\n",
    "~~~~~~~~~~~~~~~~~~~~~~~~~~~~~~~~~~~~~~~~~~~~~~~~~~~~~~\n",
    "\n",
    "First, import all necessary libraries:"
   ]
  },
  {
   "cell_type": "code",
   "execution_count": 17,
   "id": "0a39acb0",
   "metadata": {},
   "outputs": [],
   "source": [
    "import torch\n",
    "import torch.nn\n",
    "import torch.optim\n",
    "import torch.profiler\n",
    "import torch.utils.data\n",
    "import torchvision.datasets\n",
    "import torchvision.models\n",
    "import torchvision.transforms as T"
   ]
  },
  {
   "cell_type": "markdown",
   "id": "6967d918",
   "metadata": {},
   "source": [
    "Then prepare the input data. For this tutorial, we use the CIFAR10 dataset.\n",
    "Transform it to the desired format and use DataLoader to load each batch."
   ]
  },
  {
   "cell_type": "code",
   "execution_count": 18,
   "id": "18ad3e2c",
   "metadata": {
    "scrolled": true
   },
   "outputs": [
    {
     "name": "stdout",
     "output_type": "stream",
     "text": [
      "Files already downloaded and verified\n"
     ]
    }
   ],
   "source": [
    "transform = T.Compose(\n",
    "    [T.Resize(224),\n",
    "     T.ToTensor(),\n",
    "     T.Normalize((0.5, 0.5, 0.5), (0.5, 0.5, 0.5))])\n",
    "train_set = torchvision.datasets.CIFAR10(root='./data', train=True, download=True, transform=transform)\n",
    "train_loader = torch.utils.data.DataLoader(train_set, batch_size=32, shuffle=True)"
   ]
  },
  {
   "cell_type": "markdown",
   "id": "4f5dd2b0",
   "metadata": {},
   "source": [
    "Next, create Resnet model, loss function, and optimizer objects.\n",
    "To run on GPU, move model and loss to GPU device."
   ]
  },
  {
   "cell_type": "code",
   "execution_count": 19,
   "id": "1e7e9781",
   "metadata": {},
   "outputs": [
    {
     "data": {
      "text/plain": [
       "ResNet(\n",
       "  (conv1): Conv2d(3, 64, kernel_size=(7, 7), stride=(2, 2), padding=(3, 3), bias=False)\n",
       "  (bn1): BatchNorm2d(64, eps=1e-05, momentum=0.1, affine=True, track_running_stats=True)\n",
       "  (relu): ReLU(inplace=True)\n",
       "  (maxpool): MaxPool2d(kernel_size=3, stride=2, padding=1, dilation=1, ceil_mode=False)\n",
       "  (layer1): Sequential(\n",
       "    (0): BasicBlock(\n",
       "      (conv1): Conv2d(64, 64, kernel_size=(3, 3), stride=(1, 1), padding=(1, 1), bias=False)\n",
       "      (bn1): BatchNorm2d(64, eps=1e-05, momentum=0.1, affine=True, track_running_stats=True)\n",
       "      (relu): ReLU(inplace=True)\n",
       "      (conv2): Conv2d(64, 64, kernel_size=(3, 3), stride=(1, 1), padding=(1, 1), bias=False)\n",
       "      (bn2): BatchNorm2d(64, eps=1e-05, momentum=0.1, affine=True, track_running_stats=True)\n",
       "    )\n",
       "    (1): BasicBlock(\n",
       "      (conv1): Conv2d(64, 64, kernel_size=(3, 3), stride=(1, 1), padding=(1, 1), bias=False)\n",
       "      (bn1): BatchNorm2d(64, eps=1e-05, momentum=0.1, affine=True, track_running_stats=True)\n",
       "      (relu): ReLU(inplace=True)\n",
       "      (conv2): Conv2d(64, 64, kernel_size=(3, 3), stride=(1, 1), padding=(1, 1), bias=False)\n",
       "      (bn2): BatchNorm2d(64, eps=1e-05, momentum=0.1, affine=True, track_running_stats=True)\n",
       "    )\n",
       "  )\n",
       "  (layer2): Sequential(\n",
       "    (0): BasicBlock(\n",
       "      (conv1): Conv2d(64, 128, kernel_size=(3, 3), stride=(2, 2), padding=(1, 1), bias=False)\n",
       "      (bn1): BatchNorm2d(128, eps=1e-05, momentum=0.1, affine=True, track_running_stats=True)\n",
       "      (relu): ReLU(inplace=True)\n",
       "      (conv2): Conv2d(128, 128, kernel_size=(3, 3), stride=(1, 1), padding=(1, 1), bias=False)\n",
       "      (bn2): BatchNorm2d(128, eps=1e-05, momentum=0.1, affine=True, track_running_stats=True)\n",
       "      (downsample): Sequential(\n",
       "        (0): Conv2d(64, 128, kernel_size=(1, 1), stride=(2, 2), bias=False)\n",
       "        (1): BatchNorm2d(128, eps=1e-05, momentum=0.1, affine=True, track_running_stats=True)\n",
       "      )\n",
       "    )\n",
       "    (1): BasicBlock(\n",
       "      (conv1): Conv2d(128, 128, kernel_size=(3, 3), stride=(1, 1), padding=(1, 1), bias=False)\n",
       "      (bn1): BatchNorm2d(128, eps=1e-05, momentum=0.1, affine=True, track_running_stats=True)\n",
       "      (relu): ReLU(inplace=True)\n",
       "      (conv2): Conv2d(128, 128, kernel_size=(3, 3), stride=(1, 1), padding=(1, 1), bias=False)\n",
       "      (bn2): BatchNorm2d(128, eps=1e-05, momentum=0.1, affine=True, track_running_stats=True)\n",
       "    )\n",
       "  )\n",
       "  (layer3): Sequential(\n",
       "    (0): BasicBlock(\n",
       "      (conv1): Conv2d(128, 256, kernel_size=(3, 3), stride=(2, 2), padding=(1, 1), bias=False)\n",
       "      (bn1): BatchNorm2d(256, eps=1e-05, momentum=0.1, affine=True, track_running_stats=True)\n",
       "      (relu): ReLU(inplace=True)\n",
       "      (conv2): Conv2d(256, 256, kernel_size=(3, 3), stride=(1, 1), padding=(1, 1), bias=False)\n",
       "      (bn2): BatchNorm2d(256, eps=1e-05, momentum=0.1, affine=True, track_running_stats=True)\n",
       "      (downsample): Sequential(\n",
       "        (0): Conv2d(128, 256, kernel_size=(1, 1), stride=(2, 2), bias=False)\n",
       "        (1): BatchNorm2d(256, eps=1e-05, momentum=0.1, affine=True, track_running_stats=True)\n",
       "      )\n",
       "    )\n",
       "    (1): BasicBlock(\n",
       "      (conv1): Conv2d(256, 256, kernel_size=(3, 3), stride=(1, 1), padding=(1, 1), bias=False)\n",
       "      (bn1): BatchNorm2d(256, eps=1e-05, momentum=0.1, affine=True, track_running_stats=True)\n",
       "      (relu): ReLU(inplace=True)\n",
       "      (conv2): Conv2d(256, 256, kernel_size=(3, 3), stride=(1, 1), padding=(1, 1), bias=False)\n",
       "      (bn2): BatchNorm2d(256, eps=1e-05, momentum=0.1, affine=True, track_running_stats=True)\n",
       "    )\n",
       "  )\n",
       "  (layer4): Sequential(\n",
       "    (0): BasicBlock(\n",
       "      (conv1): Conv2d(256, 512, kernel_size=(3, 3), stride=(2, 2), padding=(1, 1), bias=False)\n",
       "      (bn1): BatchNorm2d(512, eps=1e-05, momentum=0.1, affine=True, track_running_stats=True)\n",
       "      (relu): ReLU(inplace=True)\n",
       "      (conv2): Conv2d(512, 512, kernel_size=(3, 3), stride=(1, 1), padding=(1, 1), bias=False)\n",
       "      (bn2): BatchNorm2d(512, eps=1e-05, momentum=0.1, affine=True, track_running_stats=True)\n",
       "      (downsample): Sequential(\n",
       "        (0): Conv2d(256, 512, kernel_size=(1, 1), stride=(2, 2), bias=False)\n",
       "        (1): BatchNorm2d(512, eps=1e-05, momentum=0.1, affine=True, track_running_stats=True)\n",
       "      )\n",
       "    )\n",
       "    (1): BasicBlock(\n",
       "      (conv1): Conv2d(512, 512, kernel_size=(3, 3), stride=(1, 1), padding=(1, 1), bias=False)\n",
       "      (bn1): BatchNorm2d(512, eps=1e-05, momentum=0.1, affine=True, track_running_stats=True)\n",
       "      (relu): ReLU(inplace=True)\n",
       "      (conv2): Conv2d(512, 512, kernel_size=(3, 3), stride=(1, 1), padding=(1, 1), bias=False)\n",
       "      (bn2): BatchNorm2d(512, eps=1e-05, momentum=0.1, affine=True, track_running_stats=True)\n",
       "    )\n",
       "  )\n",
       "  (avgpool): AdaptiveAvgPool2d(output_size=(1, 1))\n",
       "  (fc): Linear(in_features=512, out_features=1000, bias=True)\n",
       ")"
      ]
     },
     "execution_count": 19,
     "metadata": {},
     "output_type": "execute_result"
    }
   ],
   "source": [
    "device = torch.device(\"cuda:0\")\n",
    "model = torchvision.models.resnet18(pretrained=True).cuda(device)\n",
    "criterion = torch.nn.CrossEntropyLoss().cuda(device)\n",
    "optimizer = torch.optim.SGD(model.parameters(), lr=0.001, momentum=0.9)\n",
    "model.train()"
   ]
  },
  {
   "cell_type": "markdown",
   "id": "b9fc18f1",
   "metadata": {},
   "source": [
    "Define the training step for each batch of input data.\n"
   ]
  },
  {
   "cell_type": "code",
   "execution_count": 20,
   "id": "b020b0aa",
   "metadata": {},
   "outputs": [],
   "source": [
    "def train(data):\n",
    "    inputs, labels = data[0].to(device=device), data[1].to(device=device)\n",
    "    outputs = model(inputs)\n",
    "    loss = criterion(outputs, labels)\n",
    "    optimizer.zero_grad()\n",
    "    loss.backward()\n",
    "    optimizer.step()"
   ]
  },
  {
   "cell_type": "markdown",
   "id": "1b14952b",
   "metadata": {},
   "source": [
    "2. Use profiler to record execution events\n",
    "~~~~~~~~~~~~~~~~~~~~~~~~~~~~~~~~~~~~~~~~~~~~~~~~~~~~~~\n",
    "\n",
    "The profiler is enabled through the context manager and accepts several parameters,\n",
    "some of the most useful are:\n",
    "\n",
    "- ``schedule`` - callable that takes step (int) as a single parameter\n",
    "  and returns the profiler action to perform at each step.\n",
    "\n",
    "  In this example with ``wait=1, warmup=1, active=3, repeat=2``,\n",
    "  profiler will skip the first step/iteration,\n",
    "  start warming up on the second,\n",
    "  record the following three iterations,\n",
    "  after which the trace will become available and on_trace_ready (when set) is called.\n",
    "  In total, the cycle repeats twice. Each cycle is called a \"span\" in TensorBoard plugin.\n",
    "\n",
    "  During ``wait`` steps, the profiler is disabled.\n",
    "  During ``warmup`` steps, the profiler starts tracing but the results are discarded.\n",
    "  This is for reducing the profiling overhead.\n",
    "  The overhead at the beginning of profiling is high and easy to bring skew to the profiling result.\n",
    "  During ``active`` steps, the profiler works and records events.\n",
    "- ``on_trace_ready`` - callable that is called at the end of each cycle;\n",
    "  In this example we use ``torch.profiler.tensorboard_trace_handler`` to generate result files for TensorBoard.\n",
    "  After profiling, result files will be saved into the ``./log/resnet18`` directory.\n",
    "  Specify this directory as a ``logdir`` parameter to analyze profile in TensorBoard.\n",
    "- ``record_shapes`` - whether to record shapes of the operator inputs.\n",
    "- ``profile_memory`` - Track tensor memory allocation/deallocation.\n",
    "- ``with_stack`` - Record source information (file and line number) for the ops.\n",
    "  If the TensorBoard is launched in VSCode (`reference <https://code.visualstudio.com/docs/datascience/pytorch-support#_tensorboard-integration>`_),\n",
    "  clicking a stack frame will navigate to the specific code line.\n",
    "\n"
   ]
  },
  {
   "cell_type": "code",
   "execution_count": 21,
   "id": "7084b6a7",
   "metadata": {},
   "outputs": [],
   "source": [
    "with torch.profiler.profile(\n",
    "        activities=[\n",
    "            torch.profiler.ProfilerActivity.CUDA],\n",
    "        schedule=torch.profiler.schedule(wait=1, warmup=1, active=3, repeat=2),\n",
    "        on_trace_ready=torch.profiler.tensorboard_trace_handler('./log/resnet18'),\n",
    "        record_shapes=True,\n",
    "        with_stack=True\n",
    ") as prof:\n",
    "    for step, batch_data in enumerate(train_loader):\n",
    "        if step >= (1 + 1 + 3) * 2:\n",
    "            break\n",
    "        train(batch_data)\n",
    "        prof.step()  # Need to call this at the end of each step to notify profiler of steps' boundary."
   ]
  },
  {
   "cell_type": "code",
   "execution_count": null,
   "id": "e4947804",
   "metadata": {},
   "outputs": [],
   "source": []
  }
 ],
 "metadata": {
  "kernelspec": {
   "display_name": "Python 3 (ipykernel)",
   "language": "python",
   "name": "python3"
  },
  "language_info": {
   "codemirror_mode": {
    "name": "ipython",
    "version": 3
   },
   "file_extension": ".py",
   "mimetype": "text/x-python",
   "name": "python",
   "nbconvert_exporter": "python",
   "pygments_lexer": "ipython3",
   "version": "3.8.10"
  }
 },
 "nbformat": 4,
 "nbformat_minor": 5
}
